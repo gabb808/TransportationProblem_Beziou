{
 "cells": [
  {
   "cell_type": "code",
   "execution_count": 22,
   "metadata": {},
   "outputs": [],
   "source": [
    "# Import required libraries\n",
    "import numpy as np\n",
    "import pandas as pd\n"
   ]
  },
  {
   "cell_type": "code",
   "execution_count": null,
   "metadata": {},
   "outputs": [
    {
     "name": "stdout",
     "output_type": "stream",
     "text": [
      "Supply (S1, S2, S3): [500. 700. 800.]\n",
      "Demand (D1, D2, D3, D4): [400. 900. 200. 500.]\n",
      "Cost Matrix:\n",
      "[[12 13  4  6]\n",
      " [ 6  4 10 11]\n",
      " [10  9 12  4]]\n"
     ]
    }
   ],
   "source": [
    "# Read input CSV file\n",
    "file_path = 'problem.csv'  # Replace with the exact name of the file\n",
    "data = pd.read_csv(file_path, index_col=0)\n",
    "\n",
    "# Extract Supply (last column) and Demand (last row)\n",
    "supply = data['Supply'].iloc[:-1].values\n",
    "demand = data.loc['Demand', :].values[:-1]\n",
    "\n",
    "# Extract cost matrix (everything except the last row and column)\n",
    "cost_matrix = data.iloc[:-1, :-1].values\n",
    "\n",
    "# Print extracted data\n",
    "print(\"Supply (S1, S2, S3):\", supply)\n",
    "print(\"Demand (D1, D2, D3, D4):\", demand)\n",
    "print(\"Cost Matrix:\")\n",
    "print(cost_matrix)\n"
   ]
  },
  {
   "cell_type": "code",
   "execution_count": 24,
   "metadata": {},
   "outputs": [
    {
     "name": "stdout",
     "output_type": "stream",
     "text": [
      "Northwest Corner Allocation:\n",
      "[[400. 100.   0.   0.]\n",
      " [  0. 700.   0.   0.]\n",
      " [  0. 100. 200. 500.]]\n"
     ]
    }
   ],
   "source": [
    "def northwest_corner(supply, demand):\n",
    "    supply = supply.copy()\n",
    "    demand = demand.copy()\n",
    "    allocation = np.zeros((len(supply), len(demand)))\n",
    "\n",
    "    i = j = 0\n",
    "    while i < len(supply) and j < len(demand):\n",
    "        allocation[i][j] = min(supply[i], demand[j])\n",
    "        if supply[i] < demand[j]:\n",
    "            demand[j] -= supply[i]\n",
    "            i += 1\n",
    "        else:\n",
    "            supply[i] -= demand[j]\n",
    "            j += 1\n",
    "    return allocation\n",
    "\n",
    "# Apply Northwest Corner Rule\n",
    "nw_allocation = northwest_corner(supply, demand)\n",
    "print(\"Northwest Corner Allocation:\")\n",
    "print(nw_allocation)\n"
   ]
  },
  {
   "cell_type": "code",
   "execution_count": 25,
   "metadata": {},
   "outputs": [
    {
     "name": "stdout",
     "output_type": "stream",
     "text": [
      "Minimum Cost Allocation:\n",
      "[[300.   0. 200.   0.]\n",
      " [  0. 700.   0.   0.]\n",
      " [100. 200.   0. 500.]]\n"
     ]
    }
   ],
   "source": [
    "def minimum_cost_method(cost_matrix, supply, demand):\n",
    "    # Copy supply and demand arrays to avoid modifying the originals\n",
    "    supply = supply.copy()\n",
    "    demand = demand.copy()\n",
    "\n",
    "    # Ensure allocation is float for flexibility\n",
    "    allocation = np.zeros(cost_matrix.shape, dtype=float)\n",
    "\n",
    "    # Convert cost matrix to float to support np.inf\n",
    "    costs = cost_matrix.astype(float)\n",
    "\n",
    "    # Loop until all supply and demand are satisfied\n",
    "    while np.any(supply > 0) and np.any(demand > 0):\n",
    "        # Find the index of the minimum cost\n",
    "        i, j = np.unravel_index(np.argmin(costs, axis=None), costs.shape)\n",
    "\n",
    "        # Allocate resources\n",
    "        allocation[i][j] = min(supply[i], demand[j])\n",
    "        if supply[i] <= demand[j]:\n",
    "            demand[j] -= supply[i]\n",
    "            supply[i] = 0\n",
    "            costs[i, :] = np.inf  # Remove the row (set to infinity)\n",
    "        else:\n",
    "            supply[i] -= demand[j]\n",
    "            demand[j] = 0\n",
    "            costs[:, j] = np.inf  # Remove the column (set to infinity)\n",
    "\n",
    "    return allocation\n",
    "\n",
    "# Apply the Minimum Cost Method\n",
    "min_cost_allocation = minimum_cost_method(cost_matrix, supply, demand)\n",
    "print(\"Minimum Cost Allocation:\")\n",
    "print(min_cost_allocation)\n"
   ]
  },
  {
   "cell_type": "code",
   "execution_count": 26,
   "metadata": {},
   "outputs": [
    {
     "name": "stdout",
     "output_type": "stream",
     "text": [
      "Minimum Row Cost Allocation:\n",
      "[[  0.   0. 200. 300.]\n",
      " [  0. 700.   0.   0.]\n",
      " [400. 200.   0. 200.]]\n"
     ]
    }
   ],
   "source": [
    "def minimum_row_cost(cost_matrix, supply, demand):\n",
    "    supply = supply.copy()\n",
    "    demand = demand.copy()\n",
    "    allocation = np.zeros(cost_matrix.shape, dtype=float)  # Ensure allocation is float for flexibility\n",
    "\n",
    "    for i in range(len(supply)):  # Iterate through rows\n",
    "        while supply[i] > 0:  # While there is still supply\n",
    "            # Find the column (j) with the minimum cost in row i\n",
    "            available_demand = np.where(demand > 0, cost_matrix[i, :], np.inf)  # Ignore fully satisfied demands\n",
    "            j = np.argmin(available_demand)\n",
    "\n",
    "            # If all demands are satisfied (np.inf everywhere), break the loop\n",
    "            if np.isinf(available_demand[j]):\n",
    "                break\n",
    "\n",
    "            # Allocate as much as possible to minimize cost\n",
    "            allocation[i][j] = min(supply[i], demand[j])\n",
    "            if supply[i] <= demand[j]:  # Supply exhausted\n",
    "                demand[j] -= supply[i]\n",
    "                supply[i] = 0\n",
    "            else:  # Demand exhausted\n",
    "                supply[i] -= demand[j]\n",
    "                demand[j] = 0\n",
    "\n",
    "    return allocation\n",
    "\n",
    "# Apply Minimum Row Cost Method\n",
    "min_row_allocation = minimum_row_cost(cost_matrix, supply, demand)\n",
    "print(\"Minimum Row Cost Allocation:\")\n",
    "print(min_row_allocation)\n"
   ]
  },
  {
   "cell_type": "code",
   "execution_count": 27,
   "metadata": {},
   "outputs": [
    {
     "name": "stdout",
     "output_type": "stream",
     "text": [
      "Vogel's Approximation Allocation:\n",
      "[[  0.   0. 200. 300.]\n",
      " [  0. 700.   0.   0.]\n",
      " [400. 200.   0. 200.]]\n"
     ]
    },
    {
     "name": "stderr",
     "output_type": "stream",
     "text": [
      "C:\\Users\\hayuy\\AppData\\Local\\Temp\\ipykernel_1632\\835898863.py:13: RuntimeWarning: invalid value encountered in subtract\n",
      "  col_penalty = col_diff[1, :] - col_diff[0, :]\n",
      "C:\\Users\\hayuy\\AppData\\Local\\Temp\\ipykernel_1632\\835898863.py:11: RuntimeWarning: invalid value encountered in subtract\n",
      "  row_penalty = row_diff[:, 1] - row_diff[:, 0]\n"
     ]
    }
   ],
   "source": [
    "def vogels_method(cost_matrix, supply, demand):\n",
    "    # Ensure cost_matrix is of type float to handle np.inf\n",
    "    supply = supply.copy()\n",
    "    demand = demand.copy()\n",
    "    allocation = np.zeros(cost_matrix.shape, dtype=float)\n",
    "    cost_matrix = cost_matrix.astype(float)  # Convert to float for compatibility with np.inf\n",
    "\n",
    "    while np.any(supply > 0) and np.any(demand > 0):\n",
    "        # Calculate penalties\n",
    "        row_diff = np.sort(cost_matrix, axis=1)[:, :2]\n",
    "        row_penalty = row_diff[:, 1] - row_diff[:, 0]\n",
    "        col_diff = np.sort(cost_matrix, axis=0)[:2, :]\n",
    "        col_penalty = col_diff[1, :] - col_diff[0, :]\n",
    "\n",
    "        # Handle rows/columns with no available supply/demand\n",
    "        row_penalty[np.all(cost_matrix == np.inf, axis=1)] = -1\n",
    "        col_penalty[np.all(cost_matrix == np.inf, axis=0)] = -1\n",
    "\n",
    "        # Choose the largest penalty\n",
    "        row_max = np.max(row_penalty)\n",
    "        col_max = np.max(col_penalty)\n",
    "\n",
    "        if row_max >= col_max:\n",
    "            i = np.argmax(row_penalty)\n",
    "            j = np.argmin(cost_matrix[i, :])\n",
    "        else:\n",
    "            j = np.argmax(col_penalty)\n",
    "            i = np.argmin(cost_matrix[:, j])\n",
    "\n",
    "        # Allocate the minimum of supply or demand\n",
    "        allocation[i][j] = min(supply[i], demand[j])\n",
    "        if supply[i] <= demand[j]:  # Supply exhausted\n",
    "            demand[j] -= supply[i]\n",
    "            supply[i] = 0\n",
    "            cost_matrix[i, :] = np.inf  # Remove the row\n",
    "        else:  # Demand exhausted\n",
    "            supply[i] -= demand[j]\n",
    "            demand[j] = 0\n",
    "            cost_matrix[:, j] = np.inf  # Remove the column\n",
    "\n",
    "    return allocation\n",
    "\n",
    "# Apply Vogel's Method\n",
    "vogel_allocation = vogels_method(cost_matrix, supply, demand)\n",
    "print(\"Vogel's Approximation Allocation:\")\n",
    "print(vogel_allocation)\n"
   ]
  },
  {
   "cell_type": "code",
   "execution_count": 28,
   "metadata": {},
   "outputs": [
    {
     "name": "stdout",
     "output_type": "stream",
     "text": [
      "Northwest Corner: Total Cost = 14200.0\n",
      "Minimum Cost: Total Cost = 12000.0\n",
      "Minimum Row Cost: Total Cost = 12000.0\n",
      "Vogel's Method: Total Cost = 12000.0\n"
     ]
    }
   ],
   "source": [
    "def calculate_total_cost(cost_matrix, allocation):\n",
    "    return np.sum(cost_matrix * allocation)\n",
    "\n",
    "methods = {\n",
    "    \"Northwest Corner\": nw_allocation,\n",
    "    \"Minimum Cost\": min_cost_allocation,\n",
    "    \"Minimum Row Cost\": min_row_allocation,\n",
    "    \"Vogel's Method\": vogel_allocation\n",
    "}\n",
    "\n",
    "for method, allocation in methods.items():\n",
    "    total_cost = calculate_total_cost(cost_matrix, allocation)\n",
    "    print(f\"{method}: Total Cost = {total_cost}\")\n"
   ]
  }
 ],
 "metadata": {
  "kernelspec": {
   "display_name": "Python 3",
   "language": "python",
   "name": "python3"
  },
  "language_info": {
   "codemirror_mode": {
    "name": "ipython",
    "version": 3
   },
   "file_extension": ".py",
   "mimetype": "text/x-python",
   "name": "python",
   "nbconvert_exporter": "python",
   "pygments_lexer": "ipython3",
   "version": "3.8.8"
  }
 },
 "nbformat": 4,
 "nbformat_minor": 2
}
